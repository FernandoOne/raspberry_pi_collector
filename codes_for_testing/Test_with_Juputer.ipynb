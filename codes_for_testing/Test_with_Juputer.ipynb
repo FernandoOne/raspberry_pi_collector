{
 "cells": [
  {
   "cell_type": "code",
   "execution_count": 10,
   "metadata": {},
   "outputs": [
    {
     "name": "stdout",
     "output_type": "stream",
     "text": [
      " adsdas  wadad \n"
     ]
    }
   ],
   "source": [
    "serialString = \"\\radsdas\\r wadad\\r\"\n",
    "serialStringToPrint= serialString.replace(\"\\r\", \" \", 100)\n",
    "print(serialStringToPrint)"
   ]
  },
  {
   "cell_type": "code",
   "execution_count": 9,
   "metadata": {},
   "outputs": [
    {
     "name": "stdout",
     "output_type": "stream",
     "text": [
      "{\"Address\": \"0x0001\", \"RSSI\": \"-31\", \"Time\": \"2022/06/05-15:26:07\"}\n"
     ]
    },
    {
     "ename": "AttributeError",
     "evalue": "'dict' object has no attribute 'has_key'",
     "output_type": "error",
     "traceback": [
      "\u001b[1;31m---------------------------------------------------------------------------\u001b[0m",
      "\u001b[1;31mAttributeError\u001b[0m                            Traceback (most recent call last)",
      "\u001b[1;32md:\\Repositorios\\raspberry_pi_collector\\codes_for_testing\\Test_with_Juputer.ipynb Cell 2'\u001b[0m in \u001b[0;36m<module>\u001b[1;34m\u001b[0m\n\u001b[0;32m      <a href='vscode-notebook-cell:/d%3A/Repositorios/raspberry_pi_collector/codes_for_testing/Test_with_Juputer.ipynb#ch0000002?line=3'>4</a>\u001b[0m \u001b[39mprint\u001b[39m(setReportIntervalAction)\n\u001b[0;32m      <a href='vscode-notebook-cell:/d%3A/Repositorios/raspberry_pi_collector/codes_for_testing/Test_with_Juputer.ipynb#ch0000002?line=4'>5</a>\u001b[0m action \u001b[39m=\u001b[39m json\u001b[39m.\u001b[39mloads(setReportIntervalAction)\n\u001b[1;32m----> <a href='vscode-notebook-cell:/d%3A/Repositorios/raspberry_pi_collector/codes_for_testing/Test_with_Juputer.ipynb#ch0000002?line=5'>6</a>\u001b[0m \u001b[39mprint\u001b[39m(action\u001b[39m.\u001b[39;49mhas_key(\u001b[39m\"\u001b[39m\u001b[39mAddresws\u001b[39m\u001b[39m\"\u001b[39m))\n\u001b[0;32m      <a href='vscode-notebook-cell:/d%3A/Repositorios/raspberry_pi_collector/codes_for_testing/Test_with_Juputer.ipynb#ch0000002?line=6'>7</a>\u001b[0m \u001b[39mprint\u001b[39m(action[\u001b[39m'\u001b[39m\u001b[39mAddress\u001b[39m\u001b[39m'\u001b[39m])\n",
      "\u001b[1;31mAttributeError\u001b[0m: 'dict' object has no attribute 'has_key'"
     ]
    }
   ],
   "source": [
    "import json\n",
    "\n",
    "setReportIntervalAction=\"{\\\"Address\\\": \\\"0x0001\\\", \\\"RSSI\\\": \\\"-31\\\", \\\"Time\\\": \\\"2022/06/05-15:26:07\\\"}\"\n",
    "print(setReportIntervalAction)\n",
    "action = json.loads(setReportIntervalAction)\n",
    "print(action.has_key(\"Addresws\"))\n",
    "print(action['Address'])"
   ]
  },
  {
   "cell_type": "code",
   "execution_count": 4,
   "metadata": {},
   "outputs": [
    {
     "name": "stdout",
     "output_type": "stream",
     "text": [
      "[['Device Status: Sensor - Addr'], ['0x0001', ' Temp'], ['24', ' Humidity'], ['65', ' Light'], ['99', ' RSSI'], ['-42 Time'], ['2022/03/27-16:30:08']]\n"
     ]
    }
   ],
   "source": [
    "sensorDataString = \"Device Status: Sensor - Addr=0x0001, Temp=24, Humidity=65, Light=99, RSSI=-42 Time=2022/03/27-16:30:08\"\n",
    "sensorDataList = sensorDataString.split(\"=\")\n",
    "for i in range(0, len(sensorDataList)):\n",
    "    sensorDataList[i] = sensorDataList[i].split(\",\")\n",
    "print(sensorDataList)"
   ]
  }
 ],
 "metadata": {
  "interpreter": {
   "hash": "2be5faf79681da6f2a61fdfdd5405d65d042280f7fba6178067603e3a2925119"
  },
  "kernelspec": {
   "display_name": "Python 3.10.1 64-bit",
   "language": "python",
   "name": "python3"
  },
  "language_info": {
   "codemirror_mode": {
    "name": "ipython",
    "version": 3
   },
   "file_extension": ".py",
   "mimetype": "text/x-python",
   "name": "python",
   "nbconvert_exporter": "python",
   "pygments_lexer": "ipython3",
   "version": "3.10.1"
  },
  "orig_nbformat": 4
 },
 "nbformat": 4,
 "nbformat_minor": 2
}
