{
 "cells": [
  {
   "cell_type": "code",
   "execution_count": 10,
   "metadata": {},
   "outputs": [
    {
     "data": {
      "text/plain": [
       "b'hi'"
      ]
     },
     "execution_count": 10,
     "metadata": {},
     "output_type": "execute_result"
    }
   ],
   "source": [
    "input()\n",
    "print(bytes(a, encoding='utf8'))"
   ]
  },
  {
   "cell_type": "code",
   "execution_count": 4,
   "metadata": {},
   "outputs": [
    {
     "name": "stdout",
     "output_type": "stream",
     "text": [
      "[['Device Status: Sensor - Addr'], ['0x0001', ' Temp'], ['24', ' Humidity'], ['65', ' Light'], ['99', ' RSSI'], ['-42 Time'], ['2022/03/27-16:30:08']]\n"
     ]
    }
   ],
   "source": [
    "sensorDataString = \"Device Status: Sensor - Addr=0x0001, Temp=24, Humidity=65, Light=99, RSSI=-42 Time=2022/03/27-16:30:08\"\n",
    "sensorDataList = sensorDataString.split(\"=\")\n",
    "for i in range(0, len(sensorDataList)):\n",
    "    sensorDataList[i] = sensorDataList[i].split(\",\")\n",
    "print(sensorDataList)"
   ]
  }
 ],
 "metadata": {
  "interpreter": {
   "hash": "2be5faf79681da6f2a61fdfdd5405d65d042280f7fba6178067603e3a2925119"
  },
  "kernelspec": {
   "display_name": "Python 3.10.1 64-bit",
   "language": "python",
   "name": "python3"
  },
  "language_info": {
   "codemirror_mode": {
    "name": "ipython",
    "version": 3
   },
   "file_extension": ".py",
   "mimetype": "text/x-python",
   "name": "python",
   "nbconvert_exporter": "python",
   "pygments_lexer": "ipython3",
   "version": "3.10.1"
  },
  "orig_nbformat": 4
 },
 "nbformat": 4,
 "nbformat_minor": 2
}
